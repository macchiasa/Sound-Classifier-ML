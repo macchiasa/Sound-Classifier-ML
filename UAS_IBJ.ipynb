{
  "nbformat": 4,
  "nbformat_minor": 0,
  "metadata": {
    "colab": {
      "provenance": []
    },
    "kernelspec": {
      "name": "python3",
      "display_name": "Python 3"
    },
    "language_info": {
      "name": "python"
    }
  },
  "cells": [
    {
      "cell_type": "code",
      "source": [
        "!pip install paho-mqtt"
      ],
      "metadata": {
        "colab": {
          "base_uri": "https://localhost:8080/"
        },
        "id": "PLgSl0VnaiR3",
        "outputId": "8ce873af-252c-4438-b981-7c7b5b122239"
      },
      "execution_count": null,
      "outputs": [
        {
          "output_type": "stream",
          "name": "stdout",
          "text": [
            "Looking in indexes: https://pypi.org/simple, https://us-python.pkg.dev/colab-wheels/public/simple/\n",
            "Requirement already satisfied: paho-mqtt in /usr/local/lib/python3.10/dist-packages (1.6.1)\n"
          ]
        }
      ]
    },
    {
      "cell_type": "code",
      "source": [
        "import numpy as np\n",
        "import paho.mqtt.client as mqtt\n",
        "from tensorflow import keras\n",
        "from tensorflow.keras import layers\n",
        "from sklearn.model_selection import train_test_split\n",
        "\n",
        "# MQTT broker information\n",
        "mqtt_broker = \"test.mosquitto.org\"\n",
        "mqtt_port = 1883\n",
        "mqtt_topic = \"nodered-elka\"  # Set the MQTT topic to match the one used in Node-RED\n",
        "\n",
        "# Constants for sound classification\n",
        "num_classes = 3\n",
        "feature_size = 1  # Modify this based on the number of features collected from Arduino\n",
        "num_samples = 3\n",
        "\n",
        "# Variables to store parsed data\n",
        "features = []\n",
        "labels = []\n",
        "\n",
        "def on_connect(client, userdata, flags, rc):\n",
        "    print(\"Connected to MQTT broker\")\n",
        "    client.subscribe(mqtt_topic)\n",
        "\n",
        "def on_message(client, userdata, msg):\n",
        "    message = msg.payload.decode()  # Decode the received message\n",
        "\n",
        "    # Parse the received message and extract features and label\n",
        "    # Modify this part based on the structure and format of your data\n",
        "    # Assuming the received message is a comma-separated list of features followed by the label\n",
        "    data = message.split(',')\n",
        "\n",
        "    # Extract features\n",
        "    feature_values = data[:feature_size]\n",
        "    features.append(feature_values)\n",
        "\n",
        "    # Extract label\n",
        "    label = int(data[feature_size])\n",
        "    labels.append(label)\n",
        "\n",
        "    # Perform classification and printing the result\n",
        "    if len(features) >= num_samples:\n",
        "        # Convert the parsed data into numpy arrays\n",
        "        X = np.array(features, dtype=np.float32)\n",
        "        y = np.array(labels, dtype=np.uint8)\n",
        "\n",
        "        # Convert the parsed data into numpy arrays\n",
        "        X = np.array(features, dtype=np.float32)\n",
        "        y = np.array(labels, dtype=np.uint8)\n",
        "\n",
        "        # Preprocess the data (e.g., normalize feature values)\n",
        "        X_normalized = X / np.max(X)\n",
        "\n",
        "        # Reshape the data to match CNN input shape (num_samples, height, width, channels)\n",
        "        X_normalized = X_normalized.reshape(-1, feature_size, 1, 1)\n",
        "\n",
        "        # Convert labels to one-hot encoded vectors\n",
        "        y_encoded = keras.utils.to_categorical(y, num_classes=num_classes)\n",
        "\n",
        "        # Split the data into training and testing sets\n",
        "        X_train, X_test, y_train, y_test = train_test_split(X_normalized, y_encoded, test_size=0.2, random_state=42)\n",
        "\n",
        "        # Build the CNN model\n",
        "        model = keras.Sequential([\n",
        "            layers.Conv2D(16, kernel_size=(3, 1), activation=\"relu\", input_shape=(feature_size, 1, 1)),\n",
        "            layers.MaxPooling2D(pool_size=(2, 1)),\n",
        "            layers.Flatten(),\n",
        "            layers.Dense(64, activation=\"relu\"),\n",
        "            layers.Dense(num_classes, activation=\"softmax\")\n",
        "        ])\n",
        "\n",
        "        # Compile the model\n",
        "        model.compile(loss=\"categorical_crossentropy\", optimizer=\"adam\", metrics=[\"accuracy\"])\n",
        "\n",
        "        # Train the model\n",
        "        batch_size = 16\n",
        "        epochs = 10\n",
        "\n",
        "        # Training loop\n",
        "        for epoch in range(epochs):\n",
        "            history = model.fit(X_train, y_train, batch_size=batch_size, epochs=1, validation_data=(X_test, y_test))\n",
        "\n",
        "        # Perform classification\n",
        "        y_pred = model.predict(X_normalized)\n",
        "        y_pred_labels = np.argmax(y_pred, axis=1)\n",
        "\n",
        "        # Print the classification result\n",
        "        class_names = [\"Quiet\", \"Moderate\", \"Loud\"]\n",
        "        for pred_label in y_pred_labels:\n",
        "            print(\"Classification Result:\", class_names[pred_label])\n",
        "\n",
        "client = mqtt.Client()\n",
        "client.on_connect = on_connect\n",
        "client.on_message = on_message\n",
        "\n",
        "client.connect(mqtt_broker, mqtt_port, 60)\n",
        "\n",
        "# Start the MQTT loop\n",
        "client.loop_start()\n",
        "\n",
        "# Allow some time for data collection\n",
        "# Adjust the duration as per your requirements\n",
        "# Alternatively, you can define a specific number of data samples to collect\n",
        "# and break the loop accordingly\n",
        "import time\n",
        "time.sleep(10)\n",
        "\n",
        "# Stop the MQTT loop\n",
        "client.loop_stop()\n"
      ],
      "metadata": {
        "colab": {
          "base_uri": "https://localhost:8080/"
        },
        "id": "hSTDx-FgQ8Ri",
        "outputId": "79136d35-e5bf-4469-c055-a5e624ee1f16"
      },
      "execution_count": null,
      "outputs": [
        {
          "output_type": "stream",
          "name": "stderr",
          "text": [
            "Exception in thread Thread-25 (_thread_main):\n",
            "Traceback (most recent call last):\n",
            "  File \"/usr/lib/python3.10/threading.py\", line 1016, in _bootstrap_inner\n",
            "    self.run()\n",
            "  File \"/usr/lib/python3.10/threading.py\", line 953, in run\n",
            "    self._target(*self._args, **self._kwargs)\n",
            "  File \"/usr/local/lib/python3.10/dist-packages/paho/mqtt/client.py\", line 3591, in _thread_main\n",
            "    self.loop_forever(retry_first_connection=True)\n",
            "  File \"/usr/local/lib/python3.10/dist-packages/paho/mqtt/client.py\", line 1756, in loop_forever\n",
            "    rc = self._loop(timeout)\n",
            "  File \"/usr/local/lib/python3.10/dist-packages/paho/mqtt/client.py\", line 1164, in _loop\n",
            "    rc = self.loop_read()\n",
            "  File \"/usr/local/lib/python3.10/dist-packages/paho/mqtt/client.py\", line 1556, in loop_read\n",
            "    rc = self._packet_read()\n",
            "  File \"/usr/local/lib/python3.10/dist-packages/paho/mqtt/client.py\", line 2439, in _packet_read\n",
            "    rc = self._packet_handle()\n",
            "  File \"/usr/local/lib/python3.10/dist-packages/paho/mqtt/client.py\", line 3033, in _packet_handle\n",
            "    return self._handle_publish()\n",
            "  File \"/usr/local/lib/python3.10/dist-packages/paho/mqtt/client.py\", line 3327, in _handle_publish\n",
            "    self._handle_on_message(message)\n",
            "  File \"/usr/local/lib/python3.10/dist-packages/paho/mqtt/client.py\", line 3570, in _handle_on_message\n",
            "    on_message(self, self._userdata, message)\n",
            "  File \"<ipython-input-31-533f3a841c79>\", line 38, in on_message\n",
            "IndexError: list index out of range\n"
          ]
        },
        {
          "output_type": "stream",
          "name": "stdout",
          "text": [
            "Connected to MQTT broker\n"
          ]
        }
      ]
    }
  ]
}
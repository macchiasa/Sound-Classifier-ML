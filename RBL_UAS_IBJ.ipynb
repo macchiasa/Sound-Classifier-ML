{
  "cells": [
    {
      "cell_type": "markdown",
      "metadata": {
        "id": "iAdH-S70Lb0H"
      },
      "source": [
        "\"Sensor Suara Berbasis Machine Learning\"\n",
        "\n",
        "Anggota Kelompok:\n",
        "\n",
        "1. Alysha Putri Anggadinata\n",
        "\n",
        "2. Fajris Zahrotun Nihayah\n",
        "\n",
        "3. Shereva Miranda"
      ]
    },
    {
      "cell_type": "code",
      "source": [
        "!pip install paho-mqtt"
      ],
      "metadata": {
        "colab": {
          "base_uri": "https://localhost:8080/"
        },
        "id": "0B2On_31b3Dl",
        "outputId": "5650cbff-f8b0-45d4-c59d-f2f6c72fffd3"
      },
      "execution_count": null,
      "outputs": [
        {
          "output_type": "stream",
          "name": "stdout",
          "text": [
            "Looking in indexes: https://pypi.org/simple, https://us-python.pkg.dev/colab-wheels/public/simple/\n",
            "Collecting paho-mqtt\n",
            "  Downloading paho-mqtt-1.6.1.tar.gz (99 kB)\n",
            "\u001b[2K     \u001b[90m━━━━━━━━━━━━━━━━━━━━━━━━━━━━━━━━━━━━━━━━\u001b[0m \u001b[32m99.4/99.4 kB\u001b[0m \u001b[31m6.9 MB/s\u001b[0m eta \u001b[36m0:00:00\u001b[0m\n",
            "\u001b[?25h  Preparing metadata (setup.py) ... \u001b[?25l\u001b[?25hdone\n",
            "Building wheels for collected packages: paho-mqtt\n",
            "  Building wheel for paho-mqtt (setup.py) ... \u001b[?25l\u001b[?25hdone\n",
            "  Created wheel for paho-mqtt: filename=paho_mqtt-1.6.1-py3-none-any.whl size=62118 sha256=4c12674647507d2aa086845c6f0262d952a6f81a586710c9b08315992aca30af\n",
            "  Stored in directory: /root/.cache/pip/wheels/8b/bb/0c/79444d1dee20324d442856979b5b519b48828b0bd3d05df84a\n",
            "Successfully built paho-mqtt\n",
            "Installing collected packages: paho-mqtt\n",
            "Successfully installed paho-mqtt-1.6.1\n"
          ]
        }
      ]
    },
    {
      "cell_type": "code",
      "execution_count": null,
      "metadata": {
        "id": "YWsnbeUmnlzd"
      },
      "outputs": [],
      "source": [
        "import numpy as np\n",
        "import paho.mqtt.client as mqtt\n",
        "from tensorflow import keras\n",
        "from tensorflow.keras import layers\n",
        "from sklearn.model_selection import train_test_split\n",
        "\n",
        "# MQTT broker information\n",
        "mqtt_broker = \"test.mosquitto.org\"\n",
        "mqtt_port = 1883\n",
        "mqtt_topic = \"reciever-elka\"  # Set the MQTT topic to match the one used in Node-RED\n",
        "mqtt_result_topic = \"nodered-elka-result\"  # Set the MQTT topic to publish the classification result\n",
        "\n",
        "# Constants for sound classification\n",
        "num_classes = 3\n",
        "feature_size = 1  # Modify this based on the number of features collected from Arduino\n",
        "\n",
        "# Variables to store parsed data\n",
        "features = []\n",
        "labels = []\n",
        "\n",
        "def on_connect(client, userdata, flags, rc):\n",
        "    print(\"Connected to MQTT broker\")\n",
        "    client.subscribe(mqtt_topic)\n",
        "\n",
        "classification_results = []\n",
        "class_names = ['Quiet', 'Moderate', 'High']\n",
        "\n",
        "def on_message(client, userdata, msg):\n",
        "    message = msg.payload.decode()  # Decode the received message\n",
        "\n",
        "    # Parse the received message and extract features and label\n",
        "    # Modify this part based on the structure and format of your data\n",
        "    # Assuming the received message is a comma-separated list of features followed by the label\n",
        "    data = message.split(',')\n",
        "\n",
        "    # Extract features\n",
        "    feature_values = data[:feature_size]\n",
        "    features.append(feature_values)\n",
        "\n",
        "    # Extract label\n",
        "    label = int(data[feature_size])\n",
        "    labels.append(label)\n",
        "\n",
        "    # Perform classification and publish the result\n",
        "    if features >= 100:\n",
        "        # Convert the parsed data into numpy arrays\n",
        "        X = np.array(features, dtype=np.float32)\n",
        "        y = np.array(labels, dtype=np.uint8)\n",
        "\n",
        "        # Preprocess the data (e.g., normalize feature values)\n",
        "        X_normalized = X / np.max(X)\n",
        "\n",
        "        # Reshape the data to match CNN input shape (num_samples, height, width, channels)\n",
        "        X_normalized = X_normalized.reshape(-1, feature_size, 1, 1)\n",
        "\n",
        "        # Convert labels to one-hot encoded vectors\n",
        "        y_encoded = keras.utils.to_categorical(y, num_classes=num_classes)\n",
        "\n",
        "        # Split the data into training and testing sets\n",
        "        X_train, X_test, y_train, y_test = train_test_split(X_normalized, y_encoded, test_size=0.2, random_state=42)\n",
        "\n",
        "        # Build the CNN model\n",
        "        model = keras.Sequential([\n",
        "            layers.Conv2D(16, kernel_size=(3, 1), activation=\"relu\", input_shape=(feature_size, 1, 1)),\n",
        "            layers.MaxPooling2D(pool_size=(2, 1)),\n",
        "            layers.Flatten(),\n",
        "            layers.Dense(64, activation=\"relu\"),\n",
        "            layers.Dense(num_classes, activation=\"softmax\")\n",
        "        ])\n",
        "\n",
        "        # Compile the model\n",
        "        model.compile(loss=\"categorical_crossentropy\", optimizer=\"adam\", metrics=[\"accuracy\"])\n",
        "\n",
        "        # Train the model\n",
        "        batch_size = 16\n",
        "        epochs = 10\n",
        "\n",
        "        # Training loop\n",
        "        for epoch in range(epochs):\n",
        "            history = model.fit(X_train, y_train, batch_size=batch_size, epochs=1, validation_data=(X_test, y_test))\n",
        "\n",
        "        # Perform classification\n",
        "        y_pred = model.predict(X_normalized)\n",
        "        y_pred_labels = np.argmax(y_pred, axis=1)\n",
        "\n",
        "        # Publish the classification result\n",
        "        for pred_label in y_pred_labels:\n",
        "            client.publish(mqtt_result_topic, str(pred_label))\n",
        "            print(\"Classification Result:\", class_names[pred_label])\n",
        "\n",
        "client = mqtt.Client()\n",
        "client.on_connect = on_connect\n",
        "client.on_message = on_message"
      ]
    }
  ],
  "metadata": {
    "colab": {
      "provenance": []
    },
    "kernelspec": {
      "display_name": "Python 3",
      "name": "python3"
    },
    "language_info": {
      "name": "python"
    }
  },
  "nbformat": 4,
  "nbformat_minor": 0
}